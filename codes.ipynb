{
  "nbformat": 4,
  "nbformat_minor": 0,
  "metadata": {
    "colab": {
      "provenance": [],
      "authorship_tag": "ABX9TyP267IELsDvqcKsMoz/8Ah5",
      "include_colab_link": true
    },
    "kernelspec": {
      "name": "python3",
      "display_name": "Python 3"
    },
    "language_info": {
      "name": "python"
    }
  },
  "cells": [
    {
      "cell_type": "markdown",
      "metadata": {
        "id": "view-in-github",
        "colab_type": "text"
      },
      "source": [
        "<a href=\"https://colab.research.google.com/github/turatsinzejunior83/.net-apps/blob/master/codes.ipynb\" target=\"_parent\"><img src=\"https://colab.research.google.com/assets/colab-badge.svg\" alt=\"Open In Colab\"/></a>"
      ]
    },
    {
      "cell_type": "markdown",
      "source": [
        "# **AES Encryption in Python**"
      ],
      "metadata": {
        "id": "tgeRr0Egq_pt"
      }
    },
    {
      "cell_type": "code",
      "execution_count": null,
      "metadata": {
        "colab": {
          "base_uri": "https://localhost:8080/"
        },
        "id": "51haF98-ToWV",
        "outputId": "94e413c1-dd4f-4651-c706-86ebe1736cdf"
      },
      "outputs": [
        {
          "output_type": "stream",
          "name": "stdout",
          "text": [
            "Requirement already satisfied: cryptography in /usr/local/lib/python3.11/dist-packages (43.0.3)\n",
            "Requirement already satisfied: cffi>=1.12 in /usr/local/lib/python3.11/dist-packages (from cryptography) (1.17.1)\n",
            "Requirement already satisfied: pycparser in /usr/local/lib/python3.11/dist-packages (from cffi>=1.12->cryptography) (2.22)\n"
          ]
        }
      ],
      "source": [
        "#step 1 : Install the required library\n",
        "\n",
        "!pip install cryptography\n",
        "\n"
      ]
    },
    {
      "cell_type": "code",
      "source": [
        "\n",
        "\n",
        "from cryptography.fernet import Fernet\n",
        "\n",
        "# Generate a key\n",
        "key = Fernet.generate_key()\n",
        "cipher_suite = Fernet(key)\n",
        "\n",
        "# message to encrypt\n",
        "message = b\"Financial Data: hello world\"\n",
        "\n",
        "#assignment for encryption\n",
        "\n",
        "#just write a code that encrypted your first_name\n",
        "\n",
        "# Encrypt\n",
        "encrypted_message = cipher_suite.encrypt(message)\n",
        "print(\"Encrypted message:\", encrypted_message)\n",
        "\n",
        "# Decrypt the message\n",
        "decrypted_message = cipher_suite.decrypt(encrypted_message)\n",
        "print(\"Decrypted message:\", decrypted_message.decode())\n"
      ],
      "metadata": {
        "colab": {
          "base_uri": "https://localhost:8080/"
        },
        "id": "qXdZWjNcT_2t",
        "outputId": "95651281-f77e-4d27-d7ef-58b8e1a1dd5a"
      },
      "execution_count": null,
      "outputs": [
        {
          "output_type": "stream",
          "name": "stdout",
          "text": [
            "Encrypted message: b'gAAAAABnrOBdlG5TjnszOaEd2J7bDJVTRAiZLl63DgbzDpL_XJcdcH5yaC8Q_VrNS4gdZeZvmeN9pT1JCgVr_NFClgJsxTNeQ6IMoBrrh7pT2jC3s6JhMFs='\n",
            "Decrypted message: Financial Data: hello world\n"
          ]
        }
      ]
    },
    {
      "cell_type": "code",
      "source": [],
      "metadata": {
        "id": "1FiA8glcC-x1"
      },
      "execution_count": null,
      "outputs": []
    },
    {
      "cell_type": "markdown",
      "source": [
        "First_Name: sdjjdfjkfdjjfjfjfjdjjdjfdjfjfdjj\n",
        "Decrypted message: Turatsinze"
      ],
      "metadata": {
        "id": "Nl5QKOPFWYi0"
      }
    },
    {
      "cell_type": "markdown",
      "source": [
        "# Uok"
      ],
      "metadata": {
        "id": "HLMWsdVqDBBi"
      }
    },
    {
      "cell_type": "markdown",
      "source": [
        "# **Save the Key to a File**"
      ],
      "metadata": {
        "id": "b8e1aadFsHfK"
      }
    },
    {
      "cell_type": "code",
      "source": [
        "from cryptography.fernet import Fernet\n",
        "#Generate a key\n",
        "key = Fernet.generate_key()\n",
        "#Save the key to a file\n",
        "with open(\"secret.key\",\"wb\") as key_file:\n",
        "  key_file.write(key)\n",
        "#Initialize the cipher with the key\n",
        "cipher_suite = Fernet(key)\n",
        "\n",
        "#encrypt a message\n",
        "message = b\"Sensitive Data: User's Password\"\n",
        "encrypted_message = cipher_suite.encrypt(message)\n",
        "print(\"Encrypted Message:\", encrypted_message)\n",
        "\n",
        "#save the encrypted message ()\n",
        "\n",
        "with open (\"encrypted.txt\",\"wb\") as enc_file:\n",
        "  enc_file.write(encrypted_message)"
      ],
      "metadata": {
        "colab": {
          "base_uri": "https://localhost:8080/"
        },
        "id": "nHAvpjY4UZxQ",
        "outputId": "25c83732-8fad-4463-dfc6-76b9b7708d09"
      },
      "execution_count": null,
      "outputs": [
        {
          "output_type": "stream",
          "name": "stdout",
          "text": [
            "Encrypted Message: b'gAAAAABnrLsnsUF4qKz6QYsjAl1im-AypA4citvcqQA6jmvdvP-TDevqVIJdtGi12npLuSLi5pTVVlcp9ILdDBEni5fVjeIQJyZ_p6IH5SDSZShfqu1szak='\n"
          ]
        }
      ]
    },
    {
      "cell_type": "markdown",
      "source": [
        "**# Load the Key and Decrypt **"
      ],
      "metadata": {
        "id": "J93MYZeWuJ3U"
      }
    },
    {
      "cell_type": "code",
      "source": [
        "from cryptography.fernet import Fernet\n",
        "\n",
        "# Load the key from file\n",
        "with open(\"secret.key\", \"rb\") as key_file:\n",
        "    key = key_file.read()\n",
        "\n",
        "# Initialize cipher with the loaded key\n",
        "cipher_suite = Fernet(key)\n",
        "\n",
        "# Load and decrypt the encrypted message\n",
        "with open(\"encrypted.txt\", \"rb\") as enc_file:\n",
        "    encrypted_message = enc_file.read()\n",
        "\n",
        "decrypted_message = cipher_suite.decrypt(encrypted_message)\n",
        "print(\"Decrypted Message:\", decrypted_message.decode())"
      ],
      "metadata": {
        "colab": {
          "base_uri": "https://localhost:8080/"
        },
        "id": "CW4LkhWytCql",
        "outputId": "87bf9c8d-f7c5-493a-e5f3-05399a0ad1bd"
      },
      "execution_count": null,
      "outputs": [
        {
          "output_type": "stream",
          "name": "stdout",
          "text": [
            "Decrypted Message: Sensitive Data: User's Password\n"
          ]
        }
      ]
    },
    {
      "cell_type": "code",
      "source": [],
      "metadata": {
        "id": "RKsI4yP7unoO"
      },
      "execution_count": null,
      "outputs": []
    }
  ]
}