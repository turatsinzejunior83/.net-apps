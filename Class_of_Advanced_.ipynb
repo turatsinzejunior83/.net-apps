{
  "nbformat": 4,
  "nbformat_minor": 0,
  "metadata": {
    "colab": {
      "provenance": [],
      "authorship_tag": "ABX9TyNDC1vOCPrfReKjG7RQ/VAq",
      "include_colab_link": true
    },
    "kernelspec": {
      "name": "python3",
      "display_name": "Python 3"
    },
    "language_info": {
      "name": "python"
    }
  },
  "cells": [
    {
      "cell_type": "markdown",
      "metadata": {
        "id": "view-in-github",
        "colab_type": "text"
      },
      "source": [
        "<a href=\"https://colab.research.google.com/github/turatsinzejunior83/.net-apps/blob/master/Class_of_Advanced_.ipynb\" target=\"_parent\"><img src=\"https://colab.research.google.com/assets/colab-badge.svg\" alt=\"Open In Colab\"/></a>"
      ]
    },
    {
      "cell_type": "code",
      "execution_count": 1,
      "metadata": {
        "colab": {
          "base_uri": "https://localhost:8080/"
        },
        "id": "_r_aPs1xZNqq",
        "outputId": "093ce1bf-e691-4cf6-f4e5-d6d08c1629be"
      },
      "outputs": [
        {
          "output_type": "stream",
          "name": "stdout",
          "text": [
            "['Draco', 'Ginny', 'Harry', 'Hermione', 'Ron']\n"
          ]
        }
      ],
      "source": [
        "#define list of names\n",
        "\n",
        "names = [\"Harry\", \"Ron\",\"Hermione\",\"Ginny\"]\n",
        "\n",
        "names.append(\"Draco\")\n",
        "\n",
        "names.sort()\n",
        "\n",
        "print(names)\n",
        "\n"
      ]
    },
    {
      "cell_type": "code",
      "source": [],
      "metadata": {
        "id": "W3C4SK61ZUfP"
      },
      "execution_count": null,
      "outputs": []
    }
  ]
}