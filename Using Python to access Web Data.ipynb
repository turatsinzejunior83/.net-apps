{
  "cells": [
    {
      "cell_type": "markdown",
      "metadata": {
        "id": "view-in-github",
        "colab_type": "text"
      },
      "source": [
        "<a href=\"https://colab.research.google.com/github/turatsinzejunior83/.net-apps/blob/master/Using%20Python%20to%20access%20Web%20Data.ipynb\" target=\"_parent\"><img src=\"https://colab.research.google.com/assets/colab-badge.svg\" alt=\"Open In Colab\"/></a>"
      ]
    },
    {
      "cell_type": "code",
      "execution_count": null,
      "metadata": {
        "id": "AzRdc37qnKHk"
      },
      "outputs": [],
      "source": []
    },
    {
      "cell_type": "markdown",
      "metadata": {
        "id": "IXcOOHyinKHn"
      },
      "source": [
        "# Assignment 1"
      ]
    },
    {
      "cell_type": "code",
      "execution_count": null,
      "metadata": {
        "id": "uxGfsWplnKHs",
        "outputId": "a87ecd5e-17a4-431c-bc95-954e7638cd4b"
      },
      "outputs": [
        {
          "name": "stdout",
          "output_type": "stream",
          "text": [
            "there are  100 values with a sum of  470520\n"
          ]
        }
      ],
      "source": [
        "import re\n",
        "fname=open(\"regex_sum_523065.txt\")\n",
        "summ=0\n",
        "count=0\n",
        "for line in fname:\n",
        "    f=re.findall('[0-9]+',line)\n",
        "    for num in f:\n",
        "        count+=1\n",
        "        summ=summ+(int(num))\n",
        "print (\"there are \",count,\"values with a sum of \",summ)"
      ]
    },
    {
      "cell_type": "markdown",
      "metadata": {
        "id": "3T17aYHhnKHu"
      },
      "source": [
        "# Assignment 2.1"
      ]
    },
    {
      "cell_type": "code",
      "execution_count": null,
      "metadata": {
        "id": "QskjCdb2nKHv"
      },
      "outputs": [],
      "source": [
        "import urllib.request,urllib.parse,urllib.error\n",
        "from bs4 import BeautifulSoup\n",
        "import ssl\n",
        "\n",
        "ctx=ssl.create_default_context()\n",
        "ctx.check_hostname=False\n",
        "ctx.verify_mode=ssl.CERT_NONE"
      ]
    },
    {
      "cell_type": "code",
      "execution_count": null,
      "metadata": {
        "id": "NeqmAUTCnKHw"
      },
      "outputs": [],
      "source": [
        "link= \"http://py4e-data.dr-chuck.net/comments_523067.html\"\n",
        "html=urllib.request.urlopen(link,context=ctx).read()\n",
        "soup=BeautifulSoup(html,'html.parser')"
      ]
    },
    {
      "cell_type": "code",
      "execution_count": null,
      "metadata": {
        "id": "W_pvUgifnKHx",
        "outputId": "b459d71a-48c1-4194-d00c-69e5f29f09e7"
      },
      "outputs": [
        {
          "name": "stdout",
          "output_type": "stream",
          "text": [
            "count is  50\n",
            "sum is  2447\n"
          ]
        }
      ],
      "source": [
        "tags=soup('span')\n",
        "s=0\n",
        "c=0\n",
        "for tag in tags:\n",
        "    c+=1\n",
        "    s+=int(tag.contents[0])\n",
        "print (\"count is \", c)\n",
        "print (\"sum is \",s)"
      ]
    },
    {
      "cell_type": "markdown",
      "metadata": {
        "id": "51hwQQG5nKHy"
      },
      "source": [
        "# Assignment 2.2 "
      ]
    },
    {
      "cell_type": "code",
      "execution_count": 1,
      "metadata": {
        "id": "gixtmn1lnKHz"
      },
      "outputs": [],
      "source": [
        "import urllib.request,urllib.parse,urllib.error\n",
        "from bs4 import BeautifulSoup\n",
        "import ssl\n",
        "import urllib\n",
        "\n",
        "ctx=ssl.create_default_context()\n",
        "ctx.check_hostname=False\n",
        "ctx.verify_mode=ssl.CERT_NONE"
      ]
    },
    {
      "cell_type": "code",
      "execution_count": 3,
      "metadata": {
        "id": "rWpDeW6KnKHz",
        "outputId": "2cdd471e-9fb2-4bb1-eb6d-5c1ccf5054f7",
        "colab": {
          "base_uri": "https://localhost:8080/"
        }
      },
      "outputs": [
        {
          "output_type": "stream",
          "name": "stdout",
          "text": [
            "Enter URL:http://py4e-data.dr-chuck.net/known_by_Jorja.html\n",
            "Enter count:7\n",
            "Enter position:18\n",
            "Retriving:  http://py4e-data.dr-chuck.net/known_by_Jorja.html\n",
            "Cieran\n"
          ]
        }
      ],
      "source": [
        "link=input(\"Enter URL:\")\n",
        "count=int(input(\"Enter count:\"))\n",
        "pos=int(input(\"Enter position:\"))\n",
        "\n",
        "print (\"Retriving: \",link)\n",
        "for i in range(0,count):\n",
        "    html=urllib.request.urlopen(link).read()\n",
        "    soup=BeautifulSoup(html)\n",
        "    tags=soup('a')\n",
        "    \n",
        "    link=tags[pos-1].get('href')\n",
        "\n",
        "result=tags[pos-1].contents[0]\n",
        "print (result)\n",
        "    "
      ]
    },
    {
      "cell_type": "markdown",
      "metadata": {
        "id": "rzHnObGhnKH0"
      },
      "source": [
        "### Assignemt 5"
      ]
    },
    {
      "cell_type": "code",
      "execution_count": 5,
      "metadata": {
        "id": "DATnytrbnKH1",
        "outputId": "8bfd818f-85ae-4a4a-dc9f-67bc692309a0",
        "colab": {
          "base_uri": "https://localhost:8080/"
        }
      },
      "outputs": [
        {
          "output_type": "stream",
          "name": "stdout",
          "text": [
            "Enter Urlhttp://py4e-data.dr-chuck.net/comments_1807770.xml\n",
            "2174\n"
          ]
        }
      ],
      "source": [
        "import urllib\n",
        "import json\n",
        "import xml.etree.ElementTree as ET\n",
        "url=input(\"Enter Url\")\n",
        "u=urllib.request.urlopen(url)\n",
        "data=u.read()\n",
        "xml_data=ET.fromstring(data)\n",
        "search_str=\"comments/comment\"\n",
        "count_tags=xml_data.findall(search_str)\n",
        "\n",
        "total=0\n",
        "for tags in count_tags:\n",
        "    c=tags.find('count')\n",
        "    total+=int(c.text)\n",
        "    \n",
        "print(total)"
      ]
    },
    {
      "cell_type": "code",
      "execution_count": 6,
      "metadata": {
        "id": "Egj365TXnKH2",
        "outputId": "f7b7a8c7-d732-4726-c9fa-ff29e37bd46b",
        "colab": {
          "base_uri": "https://localhost:8080/"
        }
      },
      "outputs": [
        {
          "output_type": "stream",
          "name": "stdout",
          "text": [
            "Enter Urlhttp://py4e-data.dr-chuck.net/comments_1807771.json\n",
            "2737\n"
          ]
        }
      ],
      "source": [
        "import urllib\n",
        "import json\n",
        "url=input(\"Enter Url\")\n",
        "u=urllib.request.urlopen(url)\n",
        "dat=u.read()\n",
        "data=json.loads(dat)\n",
        "\n",
        "total=0\n",
        "for tags in data['comments']:\n",
        "    total+=tags[\"count\"]\n",
        "print(total)"
      ]
    },
    {
      "cell_type": "code",
      "execution_count": 7,
      "metadata": {
        "id": "7vCnxTZGnKH4"
      },
      "outputs": [],
      "source": [
        "# import urllib\n",
        "# import json\n",
        "# u = 'http://py4e-data.dr-chuck.net/json?'\n",
        "# address_i= input(\"Enter address\")\n",
        "# url=u+urllib.parse.urlencode({'address':address_i})\n",
        "# print(\"Reteriving \",url)\n",
        "# u=urllib.request.urlopen(url)\n",
        "# data=u.read().decode('utf-8')\n",
        "# print(\"retrived \",len(data), \"characters\")\n",
        "# js=json.loads(data)\n",
        "\n",
        "# print (js)\n",
        "# # place_id=js['results'][0]['place_id']\n",
        "# # print(place_id)"
      ]
    },
    {
      "cell_type": "code",
      "execution_count": 8,
      "metadata": {
        "id": "3uoGEc3rnKH5",
        "outputId": "af7316df-b1d1-4ec2-c75f-35d869e4cbef",
        "colab": {
          "base_uri": "https://localhost:8080/",
          "height": 1000
        }
      },
      "outputs": [
        {
          "output_type": "stream",
          "name": "stdout",
          "text": [
            "Enter location: Universidade do Minho\n",
            "Retrieving http://py4e-data.dr-chuck.net/json?address=Universidade+do+Minho&key=42\n",
            "Retrieved 1798 characters\n",
            "{\n",
            "    \"results\": [\n",
            "        {\n",
            "            \"address_components\": [\n",
            "                {\n",
            "                    \"long_name\": \"Rua da Universidade\",\n",
            "                    \"short_name\": \"R. da Universidade\",\n",
            "                    \"types\": [\n",
            "                        \"route\"\n",
            "                    ]\n",
            "                },\n",
            "                {\n",
            "                    \"long_name\": \"Braga\",\n",
            "                    \"short_name\": \"Braga\",\n",
            "                    \"types\": [\n",
            "                        \"locality\",\n",
            "                        \"political\"\n",
            "                    ]\n",
            "                },\n",
            "                {\n",
            "                    \"long_name\": \"Braga\",\n",
            "                    \"short_name\": \"Braga\",\n",
            "                    \"types\": [\n",
            "                        \"administrative_area_level_1\",\n",
            "                        \"political\"\n",
            "                    ]\n",
            "                },\n",
            "                {\n",
            "                    \"long_name\": \"Portugal\",\n",
            "                    \"short_name\": \"PT\",\n",
            "                    \"types\": [\n",
            "                        \"country\",\n",
            "                        \"political\"\n",
            "                    ]\n",
            "                },\n",
            "                {\n",
            "                    \"long_name\": \"4710-057\",\n",
            "                    \"short_name\": \"4710-057\",\n",
            "                    \"types\": [\n",
            "                        \"postal_code\"\n",
            "                    ]\n",
            "                }\n",
            "            ],\n",
            "            \"formatted_address\": \"R. da Universidade, 4710-057 Braga, Portugal\",\n",
            "            \"geometry\": {\n",
            "                \"location\": {\n",
            "                    \"lat\": 41.5607319,\n",
            "                    \"lng\": -8.3962368\n",
            "                },\n",
            "                \"location_type\": \"GEOMETRIC_CENTER\",\n",
            "                \"viewport\": {\n",
            "                    \"northeast\": {\n",
            "                        \"lat\": 41.5616374802915,\n",
            "                        \"lng\": -8.393829\n",
            "                    },\n",
            "                    \"southwest\": {\n",
            "                        \"lat\": 41.5589395197085,\n",
            "                        \"lng\": -8.3988961\n",
            "                    }\n",
            "                }\n",
            "            },\n",
            "            \"partial_match\": true,\n",
            "            \"place_id\": \"ChIJZTG3nSf8JA0R8GO30bCQMnU\",\n",
            "            \"plus_code\": {\n",
            "                \"compound_code\": \"HJ63+7G Braga, Portugal\",\n",
            "                \"global_code\": \"8CHHHJ63+7G\"\n",
            "            },\n",
            "            \"types\": [\n",
            "                \"establishment\",\n",
            "                \"point_of_interest\",\n",
            "                \"university\"\n",
            "            ]\n",
            "        }\n",
            "    ],\n",
            "    \"status\": \"OK\"\n",
            "}\n",
            "lat 41.5607319 lng -8.3962368\n",
            "R. da Universidade, 4710-057 Braga, Portugal\n"
          ]
        },
        {
          "output_type": "error",
          "ename": "KeyboardInterrupt",
          "evalue": "ignored",
          "traceback": [
            "\u001b[0;31m---------------------------------------------------------------------------\u001b[0m",
            "\u001b[0;31mKeyboardInterrupt\u001b[0m                         Traceback (most recent call last)",
            "\u001b[0;32m<ipython-input-8-0270614e6730>\u001b[0m in \u001b[0;36m<cell line: 21>\u001b[0;34m()\u001b[0m\n\u001b[1;32m     20\u001b[0m \u001b[0;34m\u001b[0m\u001b[0m\n\u001b[1;32m     21\u001b[0m \u001b[0;32mwhile\u001b[0m \u001b[0;32mTrue\u001b[0m\u001b[0;34m:\u001b[0m\u001b[0;34m\u001b[0m\u001b[0;34m\u001b[0m\u001b[0m\n\u001b[0;32m---> 22\u001b[0;31m     \u001b[0maddress\u001b[0m \u001b[0;34m=\u001b[0m \u001b[0minput\u001b[0m\u001b[0;34m(\u001b[0m\u001b[0;34m'Enter location: '\u001b[0m\u001b[0;34m)\u001b[0m\u001b[0;34m\u001b[0m\u001b[0;34m\u001b[0m\u001b[0m\n\u001b[0m\u001b[1;32m     23\u001b[0m     \u001b[0;32mif\u001b[0m \u001b[0mlen\u001b[0m\u001b[0;34m(\u001b[0m\u001b[0maddress\u001b[0m\u001b[0;34m)\u001b[0m \u001b[0;34m<\u001b[0m \u001b[0;36m1\u001b[0m\u001b[0;34m:\u001b[0m \u001b[0;32mbreak\u001b[0m\u001b[0;34m\u001b[0m\u001b[0;34m\u001b[0m\u001b[0m\n\u001b[1;32m     24\u001b[0m \u001b[0;34m\u001b[0m\u001b[0m\n",
            "\u001b[0;32m/usr/local/lib/python3.10/dist-packages/ipykernel/kernelbase.py\u001b[0m in \u001b[0;36mraw_input\u001b[0;34m(self, prompt)\u001b[0m\n\u001b[1;32m    849\u001b[0m                 \u001b[0;34m\"raw_input was called, but this frontend does not support input requests.\"\u001b[0m\u001b[0;34m\u001b[0m\u001b[0;34m\u001b[0m\u001b[0m\n\u001b[1;32m    850\u001b[0m             )\n\u001b[0;32m--> 851\u001b[0;31m         return self._input_request(str(prompt),\n\u001b[0m\u001b[1;32m    852\u001b[0m             \u001b[0mself\u001b[0m\u001b[0;34m.\u001b[0m\u001b[0m_parent_ident\u001b[0m\u001b[0;34m,\u001b[0m\u001b[0;34m\u001b[0m\u001b[0;34m\u001b[0m\u001b[0m\n\u001b[1;32m    853\u001b[0m             \u001b[0mself\u001b[0m\u001b[0;34m.\u001b[0m\u001b[0m_parent_header\u001b[0m\u001b[0;34m,\u001b[0m\u001b[0;34m\u001b[0m\u001b[0;34m\u001b[0m\u001b[0m\n",
            "\u001b[0;32m/usr/local/lib/python3.10/dist-packages/ipykernel/kernelbase.py\u001b[0m in \u001b[0;36m_input_request\u001b[0;34m(self, prompt, ident, parent, password)\u001b[0m\n\u001b[1;32m    893\u001b[0m             \u001b[0;32mexcept\u001b[0m \u001b[0mKeyboardInterrupt\u001b[0m\u001b[0;34m:\u001b[0m\u001b[0;34m\u001b[0m\u001b[0;34m\u001b[0m\u001b[0m\n\u001b[1;32m    894\u001b[0m                 \u001b[0;31m# re-raise KeyboardInterrupt, to truncate traceback\u001b[0m\u001b[0;34m\u001b[0m\u001b[0;34m\u001b[0m\u001b[0m\n\u001b[0;32m--> 895\u001b[0;31m                 \u001b[0;32mraise\u001b[0m \u001b[0mKeyboardInterrupt\u001b[0m\u001b[0;34m(\u001b[0m\u001b[0;34m\"Interrupted by user\"\u001b[0m\u001b[0;34m)\u001b[0m \u001b[0;32mfrom\u001b[0m \u001b[0;32mNone\u001b[0m\u001b[0;34m\u001b[0m\u001b[0;34m\u001b[0m\u001b[0m\n\u001b[0m\u001b[1;32m    896\u001b[0m             \u001b[0;32mexcept\u001b[0m \u001b[0mException\u001b[0m \u001b[0;32mas\u001b[0m \u001b[0me\u001b[0m\u001b[0;34m:\u001b[0m\u001b[0;34m\u001b[0m\u001b[0;34m\u001b[0m\u001b[0m\n\u001b[1;32m    897\u001b[0m                 \u001b[0mself\u001b[0m\u001b[0;34m.\u001b[0m\u001b[0mlog\u001b[0m\u001b[0;34m.\u001b[0m\u001b[0mwarning\u001b[0m\u001b[0;34m(\u001b[0m\u001b[0;34m\"Invalid Message:\"\u001b[0m\u001b[0;34m,\u001b[0m \u001b[0mexc_info\u001b[0m\u001b[0;34m=\u001b[0m\u001b[0;32mTrue\u001b[0m\u001b[0;34m)\u001b[0m\u001b[0;34m\u001b[0m\u001b[0;34m\u001b[0m\u001b[0m\n",
            "\u001b[0;31mKeyboardInterrupt\u001b[0m: Interrupted by user"
          ]
        }
      ],
      "source": [
        "import urllib.request, urllib.parse, urllib.error\n",
        "import json\n",
        "import ssl\n",
        "\n",
        "api_key = False\n",
        "# If you have a Google Places API key, enter it here\n",
        "# api_key = 'AIzaSy___IDByT70'\n",
        "# https://developers.google.com/maps/documentation/geocoding/intro\n",
        "\n",
        "if api_key is False:\n",
        "    api_key = 42\n",
        "    serviceurl = 'http://py4e-data.dr-chuck.net/json?'\n",
        "else :\n",
        "    serviceurl = 'https://maps.googleapis.com/maps/api/geocode/json?'\n",
        "\n",
        "# Ignore SSL certificate errors\n",
        "ctx = ssl.create_default_context()\n",
        "ctx.check_hostname = False\n",
        "ctx.verify_mode = ssl.CERT_NONE\n",
        "\n",
        "while True:\n",
        "    address = input('Enter location: ')\n",
        "    if len(address) < 1: break\n",
        "\n",
        "    parms = dict()\n",
        "    parms['address'] = address\n",
        "    if api_key is not False: parms['key'] = api_key\n",
        "    url = serviceurl + urllib.parse.urlencode(parms)\n",
        "\n",
        "    print('Retrieving', url)\n",
        "    uh = urllib.request.urlopen(url, context=ctx)\n",
        "    data = uh.read().decode()\n",
        "    print('Retrieved', len(data), 'characters')\n",
        "\n",
        "    try:\n",
        "        js = json.loads(data)\n",
        "    except:\n",
        "        js = None\n",
        "\n",
        "    if not js or 'status' not in js or js['status'] != 'OK':\n",
        "        print('==== Failure To Retrieve ====')\n",
        "        print(data)\n",
        "        continue\n",
        "\n",
        "    print(json.dumps(js, indent=4))\n",
        "\n",
        "    lat = js['results'][0]['geometry']['location']['lat']\n",
        "    lng = js['results'][0]['geometry']['location']['lng']\n",
        "    print('lat', lat, 'lng', lng)\n",
        "    location = js['results'][0]['formatted_address']\n",
        "    print(location)"
      ]
    },
    {
      "cell_type": "code",
      "execution_count": null,
      "metadata": {
        "id": "H63AYKw3nKH6",
        "outputId": "960c00b8-1f46-4def-98b6-6b3ec5648fae"
      },
      "outputs": [
        {
          "name": "stdout",
          "output_type": "stream",
          "text": [
            "HTTP/1.1 200 OK\r\n",
            "Date: Thu, 21 May 2020 22:58:02 GMT\r\n",
            "Server: Apache/2.4.18 (Ubuntu)\r\n",
            "Last-Modified: Sat, 13 May 2017 11:22:22 GMT\r\n",
            "ETag: \"1d3-54f6609240717\"\r\n",
            "Accept-Ranges: bytes\r\n",
            "Content-Length: 467\r\n",
            "Cache-Control: max-age=0, no-cache, no-store, must-revalidate\r\n",
            "Pragma: no-cache\r\n",
            "Expires: Wed, 11 Jan 1984 05:00:00 GMT\r\n",
            "Connection: close\r\n",
            "Content-Type: text/plain\r\n",
            "\r\n",
            "Why should you learn to write programs?\n",
            "\n",
            "Writing programs (or programming) is a very creative \n",
            "and rewarding activity.  You can write programs for \n",
            "many reasons, ranging from making your living to solving\n",
            "a difficult data analysis problem to having fun to helping\n",
            "someone else solve a problem.  This book assumes that \n",
            "everyone needs to know how to program, and that once \n",
            "you know how to program you will figure out what you want \n",
            "to do with your newfound skills.  \n"
          ]
        }
      ],
      "source": [
        "import socket\n",
        "\n",
        "mysock = socket.socket(socket.AF_INET, socket.SOCK_STREAM)\n",
        "mysock.connect(('data.pr4e.org', 80))\n",
        "cmd = 'GET http://data.pr4e.org/intro-short.txt HTTP/1.0\\r\\n\\r\\n'.encode()\n",
        "mysock.send(cmd)\n",
        "\n",
        "while True:\n",
        "    data = mysock.recv(512)\n",
        "    if len(data) < 1:\n",
        "        break\n",
        "    print(data.decode(),end='')\n",
        "\n",
        "mysock.close()"
      ]
    },
    {
      "cell_type": "code",
      "execution_count": null,
      "metadata": {
        "id": "0c5TjCodnKH7"
      },
      "outputs": [],
      "source": []
    }
  ],
  "metadata": {
    "kernelspec": {
      "display_name": "Python 3",
      "language": "python",
      "name": "python3"
    },
    "language_info": {
      "codemirror_mode": {
        "name": "ipython",
        "version": 3
      },
      "file_extension": ".py",
      "mimetype": "text/x-python",
      "name": "python",
      "nbconvert_exporter": "python",
      "pygments_lexer": "ipython3",
      "version": "3.6.4"
    },
    "colab": {
      "provenance": [],
      "include_colab_link": true
    }
  },
  "nbformat": 4,
  "nbformat_minor": 0
}