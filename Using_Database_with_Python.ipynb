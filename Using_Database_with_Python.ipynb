{
  "nbformat": 4,
  "nbformat_minor": 0,
  "metadata": {
    "colab": {
      "provenance": [],
      "authorship_tag": "ABX9TyM4h6texXUPi5lTV7TueS55",
      "include_colab_link": true
    },
    "kernelspec": {
      "name": "python3",
      "display_name": "Python 3"
    },
    "language_info": {
      "name": "python"
    }
  },
  "cells": [
    {
      "cell_type": "markdown",
      "metadata": {
        "id": "view-in-github",
        "colab_type": "text"
      },
      "source": [
        "<a href=\"https://colab.research.google.com/github/turatsinzejunior83/.net-apps/blob/master/Using_Database_with_Python.ipynb\" target=\"_parent\"><img src=\"https://colab.research.google.com/assets/colab-badge.svg\" alt=\"Open In Colab\"/></a>"
      ]
    },
    {
      "cell_type": "code",
      "execution_count": 1,
      "metadata": {
        "colab": {
          "base_uri": "https://localhost:8080/"
        },
        "id": "LZJD6cINrdLe",
        "outputId": "201acf15-03f6-41e1-b083-b050687089a4"
      },
      "outputs": [
        {
          "output_type": "stream",
          "name": "stdout",
          "text": [
            "Looking in indexes: https://pypi.org/simple, https://us-python.pkg.dev/colab-wheels/public/simple/\n",
            "\u001b[31mERROR: Could not find a version that satisfies the requirement sqlite3 (from versions: none)\u001b[0m\u001b[31m\n",
            "\u001b[0m\u001b[31mERROR: No matching distribution found for sqlite3\u001b[0m\u001b[31m\n",
            "\u001b[0m"
          ]
        }
      ],
      "source": [
        "!pip install sqlite3"
      ]
    },
    {
      "cell_type": "code",
      "source": [
        "import sqlite3\n",
        "\n",
        "conn = sqlite3.connect('emaildbb.sqlite')\n",
        "cur = conn.cursor()\n",
        "\n",
        "cur.execute('DROP TABLE IF EXISTS Counts')\n",
        "\n",
        "cur.execute('''\n",
        "CREATE TABLE Counts (org TEXT, count INTEGER)''')\n",
        "\n",
        "fname = 'mbox.txt'\n",
        "if (len(fname) < 1): fname = 'mbox.txt'\n",
        "fh = open(fname)\n",
        "for line in fh:\n",
        "    if not line.startswith('From: '): continue\n",
        "    pieces = line.split()\n",
        "    email = pieces[1]\n",
        "    parts=email.split('@')\n",
        "    org=parts[1]\n",
        "    cur.execute('SELECT count FROM Counts WHERE org = ? ', (org,))\n",
        "    row = cur.fetchone()\n",
        "    if row is None:\n",
        "        cur.execute('''INSERT INTO Counts (org, count)\n",
        "                VALUES (?, 1)''', (org,))\n",
        "    else:\n",
        "        cur.execute('UPDATE Counts SET count = count + 1 WHERE org = ?',\n",
        "                    (org,))\n",
        "    conn.commit()\n",
        "\n",
        "# https://www.sqlite.org/lang_select.html\n",
        "sqlstr = 'SELECT org, count FROM Counts ORDER BY count DESC LIMIT 10'\n",
        "\n",
        "for row in cur.execute(sqlstr):\n",
        "    print(str(row[0]), row[1])\n",
        "\n",
        "cur.close()"
      ],
      "metadata": {
        "colab": {
          "base_uri": "https://localhost:8080/"
        },
        "id": "2blnr6OGtEVP",
        "outputId": "8a9464a5-57b6-4fb2-e65f-4f9eb4ab7544"
      },
      "execution_count": 2,
      "outputs": [
        {
          "output_type": "stream",
          "name": "stdout",
          "text": [
            "iupui.edu 536\n",
            "umich.edu 491\n",
            "indiana.edu 178\n",
            "caret.cam.ac.uk 157\n",
            "vt.edu 110\n",
            "uct.ac.za 96\n",
            "media.berkeley.edu 56\n",
            "ufp.pt 28\n",
            "gmail.com 25\n",
            "et.gatech.edu 17\n"
          ]
        }
      ]
    }
  ]
}